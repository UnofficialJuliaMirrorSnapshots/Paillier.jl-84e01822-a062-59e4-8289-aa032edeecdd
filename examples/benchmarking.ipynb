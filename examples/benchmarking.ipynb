{
 "cells": [
  {
   "cell_type": "markdown",
   "metadata": {},
   "source": [
    "This notebook benchmarks the core cryptosystem."
   ]
  },
  {
   "cell_type": "code",
   "execution_count": 1,
   "metadata": {},
   "outputs": [],
   "source": [
    "#import Pkg\n",
    "#Pkg.add(\"Paillier\")\n",
    "\n",
    "include(\"../src/Paillier.jl\")\n",
    "using Main.Paillier"
   ]
  },
  {
   "cell_type": "code",
   "execution_count": 2,
   "metadata": {},
   "outputs": [],
   "source": [
    "#using Paillier"
   ]
  },
  {
   "cell_type": "code",
   "execution_count": 3,
   "metadata": {},
   "outputs": [
    {
     "data": {
      "text/plain": [
       "Dict{Int64,Tuple{BigInt,BigInt}} with 4 entries:\n",
       "  3072 => (19387739158093946525292981720576369230942900442360222199314058632550…\n",
       "  1024 => (10571726675813419030747017621090503702128756690670143986371236034560…\n",
       "  4096 => (28261848413797921050747373790009157475207696600542845759127858334524…\n",
       "  2048 => (14867797263483233098397959331007430148653701797346046127830058751446…"
      ]
     },
     "execution_count": 3,
     "metadata": {},
     "output_type": "execute_result"
    }
   ],
   "source": [
    "PRIMES = Dict(\n",
    "  1024 => (\n",
    "    10571726675813419030747017621090503702128756690670143986371236034560692813599426412203713720690798688926328789878099626712676506524453320009379983584398337,\n",
    "    8719924186273017892025588228882782691633049350158678896348995628952203356872205587084227971878988519308049118884839383574776040781250397380876410886586727\n",
    "  ),\n",
    "  2048 => (\n",
    "    148677972634832330983979593310074301486537017973460461278300587514468301043894574906886127642530475786889672304776052879927627556769456140664043088700743909632312483413393134504352834240399191134336344285483935856491230340093391784574980688823380828143810804684752914935441384845195613674104960646037368551517,\n",
    "    158741574437007245654463598139927898730476924736461654463975966787719309357536545869203069369466212089132653564188443272208127277664424448947476335413293018778018615899291704693105620242763173357203898195318179150836424196645745308205164116144020613415407736216097185962171301808761138424668335445923774195463\n",
    "  ),\n",
    "  3072 => (\n",
    "    1938773915809394652529298172057636923094290044236022219931405863255082495690032347855183473653298293534659871606091067450014243413240921523500066901919532469137383540029911930316112378749470524457574096696184138193328907669709294330021181329645958261364199493839206628608371081790201428976669130612791242250366444274647280994509241517314575270113602067100993462694264597398469360278093929014852299016988820503145962252559265563066644322641666271029932106499903769,\n",
    "    1729333955039865312779070302545112355153622867941487879568286271974837188743634878570511341017833291903010427157003137764792255404604305248413507023181875936443712803443246199493193151194550883242324165542306335726099840941650497652937763433867479001683992006377674425496949134225079918435712621197998483974705724043646871299584388204139826795364916574148808511393182730523683601386821553913932390524372176763041155058084219750937709633053529138023382650343754253\n",
    "  ),\n",
    "  4096 => (\n",
    "    28261848413797921050747373790009157475207696600542845759127858334524810394892019587127898078272132395052472769648401097284232757529788630483814946869569002852478396595944244675534735105889321618122474758297393210151468647685747824195258058282068991024204474796049803286388451684224063796077775570765421334497363384354999202901558621538826039758620015278461613759009745213605970355014303833754007641745757347772278772997148831420440876715231559482881530450784440840032110192425362753030300069287596054036239220049206915941278085840877712031976306500253853091618747957831881866466537268377840871519638412119230139490767,\n",
    "    27320329943961504504949007102163043917650132014364161544882518267176004147597134555329724714487682581532712141674636798503421162701111085999869445909928826112515701752096106236431763411185665259456274656977605110699167613924917533335624140260702229403777488672195828976830865485865262771999567379548038071312755600178975660416672267500965264928789126530448091749895299935378529809339912106262530945639286851709843600337905255291738889952029163800976672706117961832354889533333517431787753974001568371327838181548092337994848828672904504791605188547648282557283655262324819544746399243591989901033723167621115350663317\n",
    "  ),\n",
    ")"
   ]
  },
  {
   "cell_type": "code",
   "execution_count": 4,
   "metadata": {},
   "outputs": [
    {
     "data": {
      "text/plain": [
       "Dict{String,Signed} with 2 entries:\n",
       "  \"small\" => 42\n",
       "  \"large\" => 960137572177396003082604834871835095618086895478624918305552262177…"
      ]
     },
     "execution_count": 4,
     "metadata": {},
     "output_type": "execute_result"
    }
   ],
   "source": [
    "PLAINTEXTS = Dict(\n",
    "  \"small\" => 42,\n",
    "  \"large\" => 9601375721773960030826048348718350956180868954786249183055522621772391594913965263068361191091587324151101807311169301869981191762119859865346892157945421998951222949069729370836921713919282283633399891943869137940899827469813950721928452427835958620445001112962904065293585229146038515621140909326729,\n",
    ")"
   ]
  },
  {
   "cell_type": "code",
   "execution_count": 5,
   "metadata": {},
   "outputs": [],
   "source": [
    "ITERATIONS = 100\n",
    "\n",
    "PUBKEYS = Dict()\n",
    "for (keysize, primes) in PRIMES\n",
    "  PUBKEYS[keysize] = PublicKey(primes[1], primes[2])\n",
    "end\n",
    "\n",
    "PRIKEYS = Dict()\n",
    "for (keysize, primes) in PRIMES\n",
    "  PRIKEYS[keysize] = PrivateKey(PUBKEYS[keysize], primes[1], primes[2])\n",
    "end"
   ]
  },
  {
   "cell_type": "code",
   "execution_count": 7,
   "metadata": {},
   "outputs": [
    {
     "name": "stdout",
     "output_type": "stream",
     "text": [
      "Encryption (3072, small): 28.21 ms\n",
      "Encryption (3072, large): 28.11 ms\n",
      "Encryption (1024, small): 1.86 ms\n",
      "Encryption (1024, large): 1.87 ms\n",
      "Encryption (4096, small): 50.1 ms\n",
      "Encryption (4096, large): 50.07 ms\n",
      "Encryption (2048, small): 9.28 ms\n",
      "Encryption (2048, large): 9.38 ms\n"
     ]
    }
   ],
   "source": [
    "function bench_encryption(keysize, plaintext)\n",
    "  pubkey = PUBKEYS[keysize]\n",
    "  m = PLAINTEXTS[plaintext]\n",
    "\n",
    "  # Warm up run  \n",
    "  encrypt(pubkey, m)\n",
    "    \n",
    "  total_time = 0.0\n",
    "  for i = 1:ITERATIONS\n",
    "    time_elapsed = @elapsed result = encrypt(pubkey, m)\n",
    "    total_time += time_elapsed\n",
    "  end\n",
    "\n",
    "  total_time_in_milliseconds = 1000 * total_time / ITERATIONS\n",
    "  println(\"Encryption ($keysize, $plaintext): $(round(total_time_in_milliseconds; digits=2)) ms\")\n",
    "end\n",
    "\n",
    "for keysize in keys(PRIMES)\n",
    "  for plaintext in keys(PLAINTEXTS)\n",
    "    bench_encryption(keysize, plaintext)\n",
    "  end\n",
    "end"
   ]
  },
  {
   "cell_type": "code",
   "execution_count": 8,
   "metadata": {},
   "outputs": [
    {
     "name": "stdout",
     "output_type": "stream",
     "text": [
      "Decryption (3072, small): 28.0 ms\n",
      "Decryption (3072, large): 27.91 ms\n",
      "Decryption (1024, small): 1.27 ms\n",
      "Decryption (1024, large): 1.25 ms\n",
      "Decryption (4096, small): 49.03 ms\n",
      "Decryption (4096, large): 49.05 ms\n",
      "Decryption (2048, small): 8.93 ms\n",
      "Decryption (2048, large): 8.83 ms\n"
     ]
    }
   ],
   "source": [
    "function bench_decryption(keysize, plaintext)\n",
    "  pubkey = PUBKEYS[keysize]\n",
    "  prikey = PRIKEYS[keysize]\n",
    "  m = PLAINTEXTS[plaintext]\n",
    "  c = encrypt(pubkey, m)\n",
    "\n",
    "  decrypt(prikey, c)\n",
    "  total_time = @elapsed for i = 1:ITERATIONS\n",
    "    decrypt(prikey, c)\n",
    "  end\n",
    "\n",
    "  total_time_in_milliseconds = 1000 * total_time / ITERATIONS\n",
    "  println(\"Decryption ($keysize, $plaintext): $(round(total_time_in_milliseconds; digits=2)) ms\")\n",
    "end\n",
    "\n",
    "for keysize in keys(PRIMES)\n",
    "  for plaintext in keys(PLAINTEXTS)\n",
    "    bench_decryption(keysize, plaintext)\n",
    "  end\n",
    "end"
   ]
  },
  {
   "cell_type": "code",
   "execution_count": 9,
   "metadata": {
    "scrolled": true
   },
   "outputs": [
    {
     "name": "stdout",
     "output_type": "stream",
     "text": [
      "Addition (3072, small, small): 0.01 ms\n",
      "Addition (3072, small, large): 0.009 ms\n",
      "Addition (3072, large, small): 0.009 ms\n",
      "Addition (3072, large, large): 0.009 ms\n",
      "Addition (1024, small, small): 0.002 ms\n",
      "Addition (1024, small, large): 0.002 ms\n",
      "Addition (1024, large, small): 0.002 ms\n",
      "Addition (1024, large, large): 0.002 ms\n",
      "Addition (4096, small, small): 0.015 ms\n",
      "Addition (4096, small, large): 0.014 ms\n",
      "Addition (4096, large, small): 0.014 ms\n",
      "Addition (4096, large, large): 0.014 ms\n",
      "Addition (2048, small, small): 0.005 ms\n",
      "Addition (2048, small, large): 0.005 ms\n",
      "Addition (2048, large, small): 0.005 ms\n",
      "Addition (2048, large, large): 0.005 ms\n"
     ]
    }
   ],
   "source": [
    "function bench_addition(keysize, plaintext1, plaintext2)\n",
    "  pubkey = PUBKEYS[keysize]\n",
    "  m1 = PLAINTEXTS[plaintext1]\n",
    "  m2 = PLAINTEXTS[plaintext2]\n",
    "  c1 = encrypt(pubkey, m1)\n",
    "  c2 = encrypt(pubkey, m2)\n",
    "\n",
    "  c1 + c2\n",
    "\n",
    "  total_time = @elapsed for i = 1:ITERATIONS\n",
    "    c1 + c2\n",
    "  end\n",
    "\n",
    "  total_time_in_milliseconds = 1000 * total_time / ITERATIONS\n",
    "  println(\"Addition ($keysize, $plaintext1, $plaintext2): $(round(total_time_in_milliseconds; digits=3)) ms\")\n",
    "end\n",
    "\n",
    "for keysize in keys(PRIMES)\n",
    "    for plaintext in keys(PLAINTEXTS)\n",
    "        for plaintext2 in keys(PLAINTEXTS)\n",
    "          bench_addition(keysize, plaintext, plaintext2)\n",
    "        end\n",
    "    end\n",
    "end"
   ]
  },
  {
   "cell_type": "code",
   "execution_count": 10,
   "metadata": {
    "scrolled": true
   },
   "outputs": [
    {
     "name": "stdout",
     "output_type": "stream",
     "text": [
      "Multiplication (3072, small, small): 0.078 ms\n",
      "Multiplication (3072, small, large): 9.379 ms\n",
      "Multiplication (3072, large, small): 0.081 ms\n",
      "Multiplication (3072, large, large): 9.455 ms\n",
      "Multiplication (1024, small, small): 0.012 ms\n",
      "Multiplication (1024, small, large): 1.228 ms\n",
      "Multiplication (1024, large, small): 0.015 ms\n",
      "Multiplication (1024, large, large): 1.239 ms\n",
      "Multiplication (4096, small, small): 0.112 ms\n",
      "Multiplication (4096, small, large): 12.391 ms\n",
      "Multiplication (4096, large, small): 0.111 ms\n",
      "Multiplication (4096, large, large): 12.491 ms\n",
      "Multiplication (2048, small, small): 0.038 ms\n",
      "Multiplication (2048, small, large): 4.342 ms\n",
      "Multiplication (2048, large, small): 0.038 ms\n",
      "Multiplication (2048, large, large): 4.353 ms\n"
     ]
    }
   ],
   "source": [
    "function bench_multiplication(keysize, plaintext1, plaintext2)\n",
    "  pubkey = PUBKEYS[keysize]\n",
    "  m1 = PLAINTEXTS[plaintext1]\n",
    "  m2 = PLAINTEXTS[plaintext2]\n",
    "  c1 = encrypt(pubkey, m1)\n",
    "\n",
    "  c1 * m2\n",
    "  total_time = @elapsed for i = 1:ITERATIONS\n",
    "    c1 * m2\n",
    "  end\n",
    "\n",
    "  total_time_in_milliseconds = 1000 * total_time / ITERATIONS\n",
    "  println(\"Multiplication ($keysize, $plaintext1, $plaintext2): $(round(total_time_in_milliseconds; digits=3)) ms\")\n",
    "end\n",
    "\n",
    "for keysize in keys(PRIMES)\n",
    "    for plaintext in keys(PLAINTEXTS)\n",
    "        for plaintext2 in keys(PLAINTEXTS)\n",
    "          bench_multiplication(keysize, plaintext, plaintext2)\n",
    "        end\n",
    "    end\n",
    "end"
   ]
  },
  {
   "cell_type": "code",
   "execution_count": 11,
   "metadata": {},
   "outputs": [
    {
     "name": "stdout",
     "output_type": "stream",
     "text": [
      "Keygen (3072): 191.6 ms\n",
      "Keygen (1024): 11.2 ms\n",
      "Keygen (4096): 861.21 ms\n",
      "Keygen (2048): 82.06 ms\n"
     ]
    }
   ],
   "source": [
    "function bench_keygen(keysize, ITERATIONS=3)\n",
    "  \n",
    "  total_time = @elapsed for i = 1:ITERATIONS\n",
    "    pub, priv = generate_paillier_keypair(keysize)\n",
    "  end\n",
    "\n",
    "  total_time_in_milliseconds = 1000 * total_time / ITERATIONS\n",
    "  println(\"Keygen ($keysize): $(round(total_time_in_milliseconds; digits=2)) ms\")\n",
    "end\n",
    "\n",
    "for keysize in keys(PRIMES)\n",
    "  bench_keygen(keysize)\n",
    "end"
   ]
  },
  {
   "cell_type": "code",
   "execution_count": null,
   "metadata": {},
   "outputs": [],
   "source": []
  }
 ],
 "metadata": {
  "kernelspec": {
   "display_name": "Julia 1.0.3",
   "language": "julia",
   "name": "julia-1.0"
  },
  "language_info": {
   "file_extension": ".jl",
   "mimetype": "application/julia",
   "name": "julia",
   "version": "1.0.3"
  }
 },
 "nbformat": 4,
 "nbformat_minor": 2
}
